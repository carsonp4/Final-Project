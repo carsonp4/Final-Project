{
 "cells": [
  {
   "cell_type": "code",
   "execution_count": 10,
   "id": "23b3dc49",
   "metadata": {},
   "outputs": [],
   "source": [
    "import pandas as pd\n",
    "import numpy as np\n",
    "import streamlit as st\n",
    "from sklearn.model_selection import train_test_split\n",
    "from sklearn.linear_model import LogisticRegression\n",
    "from sklearn.metrics import accuracy_score\n",
    "import datetime"
   ]
  },
  {
   "cell_type": "code",
   "execution_count": 2,
   "id": "12ee288e",
   "metadata": {},
   "outputs": [],
   "source": [
    "url = \"https://raw.githubusercontent.com/carsonp4/Final-Project/main/streamlitdash.csv\"\n"
   ]
  },
  {
   "cell_type": "code",
   "execution_count": 3,
   "id": "70471f7a",
   "metadata": {},
   "outputs": [],
   "source": [
    "df = pd.read_csv(url, index_col=0)"
   ]
  },
  {
   "cell_type": "code",
   "execution_count": null,
   "id": "6fba6426",
   "metadata": {},
   "outputs": [],
   "source": [
    "# List of columns to keep\n",
    "#columns_to_keep = [\"('Oscar', 'Film')_nominated\"]\n",
    "\n",
    "# Add the columns that don't contain the word 'Oscar' to the list\n",
    "#columns_to_keep.extend([col for col in df.columns if 'Oscar' not in col])\n",
    "\n",
    "# Create a new DataFrame with only the desired columns\n",
    "#df = df[columns_to_keep]"
   ]
  },
  {
   "cell_type": "code",
   "execution_count": null,
   "id": "b9e32760",
   "metadata": {},
   "outputs": [],
   "source": [
    "#df = df.fillna(df.mean())"
   ]
  },
  {
   "cell_type": "code",
   "execution_count": null,
   "id": "e9476349",
   "metadata": {},
   "outputs": [],
   "source": [
    "#df = df.drop('award_year', axis=1)"
   ]
  },
  {
   "cell_type": "code",
   "execution_count": null,
   "id": "10b28f75",
   "metadata": {},
   "outputs": [],
   "source": [
    "#df.to_csv(\"streamlitdash.csv\")"
   ]
  },
  {
   "cell_type": "markdown",
   "id": "bc258d4b",
   "metadata": {},
   "source": [
    "Make Linear Regression"
   ]
  },
  {
   "cell_type": "code",
   "execution_count": null,
   "id": "02abe941",
   "metadata": {},
   "outputs": [],
   "source": [
    "# Assuming the first column is the target variable, and the rest are features\n",
    "X = df.iloc[:, 1:]  # Features (excluding the first column)\n",
    "y = df.iloc[:, 0]   # Target variable (the first column)\n",
    "\n",
    "# Split the data into training and testing sets\n",
    "X_train, X_test, y_train, y_test = train_test_split(X, y, test_size=0.2, random_state=42)\n",
    "\n",
    "# Initialize the logistic regression model\n",
    "model = LogisticRegression()\n",
    "\n",
    "# Train the model on the training data\n",
    "model.fit(X_train, y_train)"
   ]
  },
  {
   "cell_type": "markdown",
   "id": "ba4895b9",
   "metadata": {},
   "source": [
    "Make fill in test"
   ]
  },
  {
   "cell_type": "code",
   "execution_count": null,
   "id": "cffa64a9",
   "metadata": {},
   "outputs": [],
   "source": [
    "# Response \"('Oscar', 'Film')_nominated\"\n",
    "\n",
    "# Fill in variables\n",
    "#'Runtime'\n",
    "#'IMDB'\n",
    "#'IMDB_Votes'\n",
    "#'Rotten_Tomatoes'\n",
    "#'Metascore'\n",
    "#'Boxoffice'\n",
    "#'Release_Month'\n",
    "#'Release_Year'\n",
    "#'Release_DOY'\n",
    "\n",
    "# Rating ___\n",
    "# Genre ___\n",
    "# Director ___\n",
    "# Writer ___\n",
    "# Language ___\n",
    "# Country ___\n",
    "# 'Total_Wins'\n",
    "# 'Total_Noms'\n",
    "# awards"
   ]
  },
  {
   "cell_type": "code",
   "execution_count": null,
   "id": "dd698eec",
   "metadata": {},
   "outputs": [],
   "source": [
    "movie = pd.DataFrame(0, index=[0], columns=df.columns).iloc[:, 1:]\n",
    "movie"
   ]
  },
  {
   "cell_type": "code",
   "execution_count": 28,
   "id": "746ffd84",
   "metadata": {},
   "outputs": [
    {
     "data": {
      "text/plain": [
       "16.978534418948925"
      ]
     },
     "execution_count": 28,
     "metadata": {},
     "output_type": "execute_result"
    }
   ],
   "source": [
    "df['Total_Wins'].mean()"
   ]
  },
  {
   "cell_type": "code",
   "execution_count": null,
   "id": "2b9421af",
   "metadata": {},
   "outputs": [],
   "source": [
    "model.predict_proba(movie)[:, 1][0]"
   ]
  },
  {
   "cell_type": "code",
   "execution_count": 24,
   "id": "e95c9bcc",
   "metadata": {},
   "outputs": [],
   "source": [
    "# Get column names starting with \"Rating_\"\n",
    "rating_columns = [col for col in df.columns if col.startswith(\"Rating_\")]\n",
    "ratings = [rating.split('_')[1] if '_' in rating else rating for rating in rating_columns]"
   ]
  }
 ],
 "metadata": {
  "kernelspec": {
   "display_name": "Python 3 (ipykernel)",
   "language": "python",
   "name": "python3"
  },
  "language_info": {
   "codemirror_mode": {
    "name": "ipython",
    "version": 3
   },
   "file_extension": ".py",
   "mimetype": "text/x-python",
   "name": "python",
   "nbconvert_exporter": "python",
   "pygments_lexer": "ipython3",
   "version": "3.11.4"
  }
 },
 "nbformat": 4,
 "nbformat_minor": 5
}
