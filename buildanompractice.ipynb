{
 "cells": [
  {
   "cell_type": "code",
   "execution_count": 11,
   "id": "23b3dc49",
   "metadata": {},
   "outputs": [],
   "source": [
    "import pandas as pd\n",
    "import numpy as np\n",
    "import streamlit as st\n",
    "from sklearn.model_selection import train_test_split\n",
    "from sklearn.linear_model import LogisticRegression\n",
    "from sklearn.metrics import accuracy_score"
   ]
  },
  {
   "cell_type": "code",
   "execution_count": 2,
   "id": "12ee288e",
   "metadata": {},
   "outputs": [],
   "source": [
    "url = \"https://raw.githubusercontent.com/carsonp4/Final-Project/main/maindf.csv\""
   ]
  },
  {
   "cell_type": "code",
   "execution_count": 3,
   "id": "70471f7a",
   "metadata": {},
   "outputs": [],
   "source": [
    "df = pd.read_csv(url, index_col=0)"
   ]
  },
  {
   "cell_type": "code",
   "execution_count": 4,
   "id": "6fba6426",
   "metadata": {},
   "outputs": [],
   "source": [
    "# List of columns to keep\n",
    "columns_to_keep = [\"('Oscar', 'Film')_nominated\"]\n",
    "\n",
    "# Add the columns that don't contain the word 'Oscar' to the list\n",
    "columns_to_keep.extend([col for col in df.columns if 'Oscar' not in col])\n",
    "\n",
    "# Create a new DataFrame with only the desired columns\n",
    "df = df[columns_to_keep]"
   ]
  },
  {
   "cell_type": "code",
   "execution_count": 5,
   "id": "b9e32760",
   "metadata": {},
   "outputs": [],
   "source": [
    "df = df.fillna(df.mean())"
   ]
  },
  {
   "cell_type": "code",
   "execution_count": 6,
   "id": "e9476349",
   "metadata": {},
   "outputs": [],
   "source": [
    "df = df.drop('award_year', axis=1)"
   ]
  },
  {
   "cell_type": "code",
   "execution_count": 35,
   "id": "10b28f75",
   "metadata": {},
   "outputs": [],
   "source": [
    "df.to_csv(\"streamlitdash.csv\")"
   ]
  },
  {
   "cell_type": "markdown",
   "id": "bc258d4b",
   "metadata": {},
   "source": [
    "Make Linear Regression"
   ]
  },
  {
   "cell_type": "code",
   "execution_count": 23,
   "id": "02abe941",
   "metadata": {},
   "outputs": [
    {
     "data": {
      "text/html": [
       "<style>#sk-container-id-2 {color: black;}#sk-container-id-2 pre{padding: 0;}#sk-container-id-2 div.sk-toggleable {background-color: white;}#sk-container-id-2 label.sk-toggleable__label {cursor: pointer;display: block;width: 100%;margin-bottom: 0;padding: 0.3em;box-sizing: border-box;text-align: center;}#sk-container-id-2 label.sk-toggleable__label-arrow:before {content: \"▸\";float: left;margin-right: 0.25em;color: #696969;}#sk-container-id-2 label.sk-toggleable__label-arrow:hover:before {color: black;}#sk-container-id-2 div.sk-estimator:hover label.sk-toggleable__label-arrow:before {color: black;}#sk-container-id-2 div.sk-toggleable__content {max-height: 0;max-width: 0;overflow: hidden;text-align: left;background-color: #f0f8ff;}#sk-container-id-2 div.sk-toggleable__content pre {margin: 0.2em;color: black;border-radius: 0.25em;background-color: #f0f8ff;}#sk-container-id-2 input.sk-toggleable__control:checked~div.sk-toggleable__content {max-height: 200px;max-width: 100%;overflow: auto;}#sk-container-id-2 input.sk-toggleable__control:checked~label.sk-toggleable__label-arrow:before {content: \"▾\";}#sk-container-id-2 div.sk-estimator input.sk-toggleable__control:checked~label.sk-toggleable__label {background-color: #d4ebff;}#sk-container-id-2 div.sk-label input.sk-toggleable__control:checked~label.sk-toggleable__label {background-color: #d4ebff;}#sk-container-id-2 input.sk-hidden--visually {border: 0;clip: rect(1px 1px 1px 1px);clip: rect(1px, 1px, 1px, 1px);height: 1px;margin: -1px;overflow: hidden;padding: 0;position: absolute;width: 1px;}#sk-container-id-2 div.sk-estimator {font-family: monospace;background-color: #f0f8ff;border: 1px dotted black;border-radius: 0.25em;box-sizing: border-box;margin-bottom: 0.5em;}#sk-container-id-2 div.sk-estimator:hover {background-color: #d4ebff;}#sk-container-id-2 div.sk-parallel-item::after {content: \"\";width: 100%;border-bottom: 1px solid gray;flex-grow: 1;}#sk-container-id-2 div.sk-label:hover label.sk-toggleable__label {background-color: #d4ebff;}#sk-container-id-2 div.sk-serial::before {content: \"\";position: absolute;border-left: 1px solid gray;box-sizing: border-box;top: 0;bottom: 0;left: 50%;z-index: 0;}#sk-container-id-2 div.sk-serial {display: flex;flex-direction: column;align-items: center;background-color: white;padding-right: 0.2em;padding-left: 0.2em;position: relative;}#sk-container-id-2 div.sk-item {position: relative;z-index: 1;}#sk-container-id-2 div.sk-parallel {display: flex;align-items: stretch;justify-content: center;background-color: white;position: relative;}#sk-container-id-2 div.sk-item::before, #sk-container-id-2 div.sk-parallel-item::before {content: \"\";position: absolute;border-left: 1px solid gray;box-sizing: border-box;top: 0;bottom: 0;left: 50%;z-index: -1;}#sk-container-id-2 div.sk-parallel-item {display: flex;flex-direction: column;z-index: 1;position: relative;background-color: white;}#sk-container-id-2 div.sk-parallel-item:first-child::after {align-self: flex-end;width: 50%;}#sk-container-id-2 div.sk-parallel-item:last-child::after {align-self: flex-start;width: 50%;}#sk-container-id-2 div.sk-parallel-item:only-child::after {width: 0;}#sk-container-id-2 div.sk-dashed-wrapped {border: 1px dashed gray;margin: 0 0.4em 0.5em 0.4em;box-sizing: border-box;padding-bottom: 0.4em;background-color: white;}#sk-container-id-2 div.sk-label label {font-family: monospace;font-weight: bold;display: inline-block;line-height: 1.2em;}#sk-container-id-2 div.sk-label-container {text-align: center;}#sk-container-id-2 div.sk-container {/* jupyter's `normalize.less` sets `[hidden] { display: none; }` but bootstrap.min.css set `[hidden] { display: none !important; }` so we also need the `!important` here to be able to override the default hidden behavior on the sphinx rendered scikit-learn.org. See: https://github.com/scikit-learn/scikit-learn/issues/21755 */display: inline-block !important;position: relative;}#sk-container-id-2 div.sk-text-repr-fallback {display: none;}</style><div id=\"sk-container-id-2\" class=\"sk-top-container\"><div class=\"sk-text-repr-fallback\"><pre>LogisticRegression()</pre><b>In a Jupyter environment, please rerun this cell to show the HTML representation or trust the notebook. <br />On GitHub, the HTML representation is unable to render, please try loading this page with nbviewer.org.</b></div><div class=\"sk-container\" hidden><div class=\"sk-item\"><div class=\"sk-estimator sk-toggleable\"><input class=\"sk-toggleable__control sk-hidden--visually\" id=\"sk-estimator-id-2\" type=\"checkbox\" checked><label for=\"sk-estimator-id-2\" class=\"sk-toggleable__label sk-toggleable__label-arrow\">LogisticRegression</label><div class=\"sk-toggleable__content\"><pre>LogisticRegression()</pre></div></div></div></div></div>"
      ],
      "text/plain": [
       "LogisticRegression()"
      ]
     },
     "execution_count": 23,
     "metadata": {},
     "output_type": "execute_result"
    }
   ],
   "source": [
    "# Assuming the first column is the target variable, and the rest are features\n",
    "X = df.iloc[:, 1:]  # Features (excluding the first column)\n",
    "y = df.iloc[:, 0]   # Target variable (the first column)\n",
    "\n",
    "# Split the data into training and testing sets\n",
    "X_train, X_test, y_train, y_test = train_test_split(X, y, test_size=0.2, random_state=42)\n",
    "\n",
    "# Initialize the logistic regression model\n",
    "model = LogisticRegression()\n",
    "\n",
    "# Train the model on the training data\n",
    "model.fit(X_train, y_train)"
   ]
  },
  {
   "cell_type": "markdown",
   "id": "ba4895b9",
   "metadata": {},
   "source": [
    "Make fill in test"
   ]
  },
  {
   "cell_type": "code",
   "execution_count": 8,
   "id": "cffa64a9",
   "metadata": {},
   "outputs": [],
   "source": [
    "# Response \"('Oscar', 'Film')_nominated\"\n",
    "\n",
    "# Fill in variables\n",
    "#'Runtime'\n",
    "#'IMDB'\n",
    "#'IMDB_Votes'\n",
    "#'Rotten_Tomatoes'\n",
    "#'Metascore'\n",
    "#'Boxoffice'\n",
    "#'Release_Month'\n",
    "#'Release_Year'\n",
    "#'Release_DOY'\n",
    "# Rating ___\n",
    "# Genre ___\n",
    "# Director ___\n",
    "# Writer ___\n",
    "# Language ___\n",
    "# Country ___\n",
    "# 'Total_Wins'\n",
    "# 'Total_Noms'\n",
    "# 'award_year'\n",
    "# awards"
   ]
  },
  {
   "cell_type": "code",
   "execution_count": 24,
   "id": "dd698eec",
   "metadata": {},
   "outputs": [
    {
     "data": {
      "text/html": [
       "<div>\n",
       "<style scoped>\n",
       "    .dataframe tbody tr th:only-of-type {\n",
       "        vertical-align: middle;\n",
       "    }\n",
       "\n",
       "    .dataframe tbody tr th {\n",
       "        vertical-align: top;\n",
       "    }\n",
       "\n",
       "    .dataframe thead th {\n",
       "        text-align: right;\n",
       "    }\n",
       "</style>\n",
       "<table border=\"1\" class=\"dataframe\">\n",
       "  <thead>\n",
       "    <tr style=\"text-align: right;\">\n",
       "      <th></th>\n",
       "      <th>Runtime</th>\n",
       "      <th>IMDB</th>\n",
       "      <th>IMDB_Votes</th>\n",
       "      <th>Rotten_Tomatoes</th>\n",
       "      <th>Metascore</th>\n",
       "      <th>Boxoffice</th>\n",
       "      <th>Release_Month</th>\n",
       "      <th>Release_Year</th>\n",
       "      <th>Release_DOY</th>\n",
       "      <th>Rating_16+</th>\n",
       "      <th>...</th>\n",
       "      <th>('Spirit', 'Lead_Actress')_winner</th>\n",
       "      <th>('Spirit', 'Screenplay')_winner</th>\n",
       "      <th>('Spirit', 'Support')_winner</th>\n",
       "      <th>('Spirit', 'Support_Actor')_winner</th>\n",
       "      <th>('Spirit', 'Support_Actress')_winner</th>\n",
       "      <th>('Sundance', 'Documentary')_winner</th>\n",
       "      <th>('Sundance', 'Film')_winner</th>\n",
       "      <th>('WGA', 'Adapted_Screenplay')_winner</th>\n",
       "      <th>('WGA', 'Documentary_Screenplay')_winner</th>\n",
       "      <th>('WGA', 'Orignial_Screenplay')_winner</th>\n",
       "    </tr>\n",
       "  </thead>\n",
       "  <tbody>\n",
       "    <tr>\n",
       "      <th>0</th>\n",
       "      <td>0</td>\n",
       "      <td>0</td>\n",
       "      <td>0</td>\n",
       "      <td>0</td>\n",
       "      <td>0</td>\n",
       "      <td>0</td>\n",
       "      <td>0</td>\n",
       "      <td>0</td>\n",
       "      <td>0</td>\n",
       "      <td>0</td>\n",
       "      <td>...</td>\n",
       "      <td>0</td>\n",
       "      <td>0</td>\n",
       "      <td>0</td>\n",
       "      <td>0</td>\n",
       "      <td>0</td>\n",
       "      <td>0</td>\n",
       "      <td>0</td>\n",
       "      <td>0</td>\n",
       "      <td>0</td>\n",
       "      <td>0</td>\n",
       "    </tr>\n",
       "  </tbody>\n",
       "</table>\n",
       "<p>1 rows × 6452 columns</p>\n",
       "</div>"
      ],
      "text/plain": [
       "   Runtime  IMDB  IMDB_Votes  Rotten_Tomatoes  Metascore  Boxoffice  \\\n",
       "0        0     0           0                0          0          0   \n",
       "\n",
       "   Release_Month  Release_Year  Release_DOY  Rating_16+  ...  \\\n",
       "0              0             0            0           0  ...   \n",
       "\n",
       "   ('Spirit', 'Lead_Actress')_winner  ('Spirit', 'Screenplay')_winner  \\\n",
       "0                                  0                                0   \n",
       "\n",
       "   ('Spirit', 'Support')_winner  ('Spirit', 'Support_Actor')_winner  \\\n",
       "0                             0                                   0   \n",
       "\n",
       "   ('Spirit', 'Support_Actress')_winner  ('Sundance', 'Documentary')_winner  \\\n",
       "0                                     0                                   0   \n",
       "\n",
       "   ('Sundance', 'Film')_winner  ('WGA', 'Adapted_Screenplay')_winner  \\\n",
       "0                            0                                     0   \n",
       "\n",
       "   ('WGA', 'Documentary_Screenplay')_winner  \\\n",
       "0                                         0   \n",
       "\n",
       "   ('WGA', 'Orignial_Screenplay')_winner  \n",
       "0                                      0  \n",
       "\n",
       "[1 rows x 6452 columns]"
      ]
     },
     "execution_count": 24,
     "metadata": {},
     "output_type": "execute_result"
    }
   ],
   "source": [
    "movie = pd.DataFrame(0, index=[0], columns=df.columns).iloc[:, 1:]\n",
    "movie"
   ]
  },
  {
   "cell_type": "code",
   "execution_count": 34,
   "id": "746ffd84",
   "metadata": {},
   "outputs": [
    {
     "data": {
      "text/plain": [
       "71.24588235294118"
      ]
     },
     "execution_count": 34,
     "metadata": {},
     "output_type": "execute_result"
    }
   ],
   "source": [
    "df['Metascore'].mean()"
   ]
  },
  {
   "cell_type": "code",
   "execution_count": 25,
   "id": "2b9421af",
   "metadata": {},
   "outputs": [
    {
     "data": {
      "text/plain": [
       "0.4999997874916952"
      ]
     },
     "execution_count": 25,
     "metadata": {},
     "output_type": "execute_result"
    }
   ],
   "source": [
    "model.predict_proba(movie)[:, 1][0]"
   ]
  }
 ],
 "metadata": {
  "kernelspec": {
   "display_name": "Python 3 (ipykernel)",
   "language": "python",
   "name": "python3"
  },
  "language_info": {
   "codemirror_mode": {
    "name": "ipython",
    "version": 3
   },
   "file_extension": ".py",
   "mimetype": "text/x-python",
   "name": "python",
   "nbconvert_exporter": "python",
   "pygments_lexer": "ipython3",
   "version": "3.11.4"
  }
 },
 "nbformat": 4,
 "nbformat_minor": 5
}
